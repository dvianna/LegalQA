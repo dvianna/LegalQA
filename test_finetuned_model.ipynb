{
 "cells": [
  {
   "cell_type": "markdown",
   "id": "58e7058c",
   "metadata": {},
   "source": [
    "Testing the original model, bloomz-560m, and the fine-tuned model LegalQA-bloom-560m"
   ]
  },
  {
   "cell_type": "code",
   "execution_count": null,
   "id": "f22b2c57",
   "metadata": {},
   "outputs": [],
   "source": [
    "import torch\n",
    "from transformers import pipeline\n",
    "from transformers import BloomTokenizerFast, BloomForCausalLM, TrainingArguments, Trainer"
   ]
  },
  {
   "cell_type": "code",
   "execution_count": 13,
   "id": "494f36e8",
   "metadata": {},
   "outputs": [
    {
     "name": "stdout",
     "output_type": "stream",
     "text": [
      "[{'generated_text': 'Given the question delimited by triple backticks ```{ O que é o imposto territorial rural?  }```, what is the answer? Answer: { O imposto territorial rural é o imposto devido pelo contribuinte, diretamente, sobre as áreas de pastagem, pecuária, pecuária  de corte, pecuária de corte e de corte de corte, destinadas à produção de grãos, vegetais e animais de corte, observado o disposto no art. 1º da Lei n º 9.393, de 1996, e no art. 2º da Lei n º 10.165, de 2000, e no art.'}]\n"
     ]
    }
   ],
   "source": [
    "# Loading the fine-tuned model: LegalQA-bloom-560m\n",
    "tokenizer = BloomTokenizerFast.from_pretrained(\"bigscience/bloomz-560m\")\n",
    "model = BloomForCausalLM.from_pretrained(\"LegalQA-bloom-560m\",low_cpu_mem_usage=True).to(\"cpu\")\n",
    "prompt = 'Given the question delimited by triple backticks ```{ O que é o imposto territorial rural?  }```, what is the answer? Answer:'\n",
    "generator = pipeline('text-generation', model=model, tokenizer=tokenizer,do_sample=False)\n",
    "result = generator(prompt, max_length=128)\n",
    "print(result)"
   ]
  },
  {
   "cell_type": "code",
   "execution_count": 11,
   "id": "cafd2032",
   "metadata": {},
   "outputs": [
    {
     "name": "stdout",
     "output_type": "stream",
     "text": [
      "[{'generated_text': 'Given the question delimited by triple backticks ```{ O que é o imposto territorial rural?  }```, what is the answer? Answer: o que é o imposto territorial rural?'}]\n"
     ]
    }
   ],
   "source": [
    "# Loading the original model: bloomz-560m\n",
    "tokenizer = BloomTokenizerFast.from_pretrained(\"bigscience/bloomz-560m\")\n",
    "model = BloomForCausalLM.from_pretrained(\"bigscience/bloomz-560m\",low_cpu_mem_usage=True).to(\"cpu\")\n",
    "prompt = 'Given the question delimited by triple backticks ```{ O que é o imposto territorial rural?  }```, what is the answer? Answer:'\n",
    "generator = pipeline('text-generation', model=model, tokenizer=tokenizer,do_sample=False)\n",
    "result = generator(prompt, max_length=128)\n",
    "print(result)"
   ]
  },
  {
   "cell_type": "code",
   "execution_count": null,
   "id": "56c6f575",
   "metadata": {},
   "outputs": [],
   "source": []
  }
 ],
 "metadata": {
  "kernelspec": {
   "display_name": "Python 3 (ipykernel)",
   "language": "python",
   "name": "python3"
  },
  "language_info": {
   "codemirror_mode": {
    "name": "ipython",
    "version": 3
   },
   "file_extension": ".py",
   "mimetype": "text/x-python",
   "name": "python",
   "nbconvert_exporter": "python",
   "pygments_lexer": "ipython3",
   "version": "3.9.13"
  }
 },
 "nbformat": 4,
 "nbformat_minor": 5
}
